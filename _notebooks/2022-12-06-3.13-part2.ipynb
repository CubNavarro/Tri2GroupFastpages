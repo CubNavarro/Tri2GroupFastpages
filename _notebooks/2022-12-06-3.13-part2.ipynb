{
 "cells": [
  {
   "cell_type": "markdown",
   "metadata": {},
   "source": [
    "# 3.13 Developing Procedures Part 2\n",
    "> Lesson about developing procedures\n",
    "- toc: true \n",
    "- badges: true\n",
    "- comments: true\n",
    "- categories: [markdown]"
   ]
  },
  {
   "cell_type": "markdown",
   "metadata": {},
   "source": [
    "# Essential Knowledge\n",
    "- Procedure-is a named group of programming instructions that serves a purpose\n",
    "- How to code Procedures-While Coding a procedure you must makes sure it has as name and a clear purpose weather to executre a response or complete an action\n",
    "- One common type of abstraction is procedrual abstraction, which provides a name for a process and allows a procedure to be only knowing what it doe,not how it does it. \n",
    "- The subdivision of a computer program into sepearate subprogrames is called modularity,"
   ]
  },
  {
   "attachments": {},
   "cell_type": "markdown",
   "metadata": {},
   "source": [
    "# Vocabulary\n",
    "- Modularity - the practice of breaking a complex program into smaller, independent parts or modules that can be used and reused in different parts of the program\n",
    "- Logic- the sequence of steps and operations that a computer follows to execute a program, including the specific instructions and decision-making processes built into the code"
   ]
  },
  {
   "cell_type": "markdown",
   "metadata": {},
   "source": [
    "# How do we make our procedure purposeful and consice\n",
    "- to make a procedure serve a purpose it should be able to hae multiple functions\n",
    "- Also to keep a procedure maximizing capability it should be simple and reduced to get the final result "
   ]
  },
  {
   "cell_type": "markdown",
   "metadata": {},
   "source": [
    "# What is important to do while writing procedures\n",
    "- It is important to understand you procudeures procedure does when creating one as it will help you create a impactful procedure"
   ]
  },
  {
   "cell_type": "markdown",
   "metadata": {},
   "source": [
    "### Procedure That Update Grade Based on retake\n",
    "- after you take a quiz your teacher lets you retake it for full credit in which your are able to replace your grade \n",
    "- TEST WITH first quiz GRADE is 40% and second is 90%\n",
    "- PROCEDURE updateGRADE {  points, current grade,new grade\n",
    "   - currentGrade = current points /75\n",
    "   - currentGrade = current crade * 100\n",
    "  -  if currentGrade > quizGrade\n",
    "  -  return currentGrade\n",
    " }\n"
   ]
  },
  {
   "cell_type": "markdown",
   "metadata": {},
   "source": [
    "# How to change your procedures to add more elements into it "
   ]
  },
  {
   "cell_type": "markdown",
   "metadata": {},
   "source": [
    "- First we start off with this coding segment which shows us what we need to do Suppse we use numbers 74 35 40\n",
    "- ![]({{site.baseurl}}/images/quizupdate.png \"https://github.com/fastai/fastpages\")\n",
    "\n"
   ]
  },
  {
   "attachments": {},
   "cell_type": "markdown",
   "metadata": {},
   "source": [
    "- PROCEDURE updateQuiz (74,35,40) {\n",
    "- temp average = 0.875\n",
    "- tempAverage = 87.5\n",
    "- 87.5>74 True }\n",
    "- This will return 87.5\n",
    "Assume you will have to right this procedure for online grade system however they want you to create a procedure that will round the grade how will you do this."
   ]
  },
  {
   "attachments": {},
   "cell_type": "markdown",
   "metadata": {},
   "source": [
    "#### Update Function \n",
    "\n",
    "\n",
    " ![]({{site.baseurl}}/images/update.png \"https://github.com/fastai/fastpages\")\n",
    "\n",
    " - This allows for the procedure to update to the answer to round it up "
   ]
  },
  {
   "attachments": {},
   "cell_type": "markdown",
   "metadata": {},
   "source": [
    "- # How get we get santa to the christmas tree using a procedure \n",
    "\n",
    "![](zig.png)"
   ]
  },
  {
   "attachments": {},
   "cell_type": "markdown",
   "metadata": {},
   "source": [
    "### Hint\n",
    "- PROCEDURE moveSanta{\n",
    "    - move_left()\n",
    "   - move_forward()\n",
    "    - move_forward()\n",
    "    - move_right()\n",
    "    - move_right()\n",
    "   -  move_forward()\n",
    "    - move_forward()\n",
    "    - move_left()\n",
    "    - move_left()\n",
    "    - move_forward()\n",
    "    - move_forward()\n",
    "   - move_right()\n",
    "- }\n",
    "- **Is this the most effective way to make a zig zag through the blocks?**"
   ]
  }
 ],
 "metadata": {
  "kernelspec": {
   "display_name": "Python 3.9.6 64-bit",
   "language": "python",
   "name": "python3"
  },
  "language_info": {
   "name": "python",
   "version": "3.8.9"
  },
  "orig_nbformat": 4,
  "vscode": {
   "interpreter": {
    "hash": "31f2aee4e71d21fbe5cf8b01ff0e069b9275f58929596ceb00d14d90e3e16cd6"
   }
  }
 },
 "nbformat": 4,
 "nbformat_minor": 2
}
