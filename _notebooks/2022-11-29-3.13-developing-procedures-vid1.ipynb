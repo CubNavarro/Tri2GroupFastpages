{
 "cells": [
  {
   "cell_type": "markdown",
   "metadata": {},
   "source": [
    "# 3.13 Developing Procedures Part 1\n",
    "> Lesson about developing procedures\n",
    "- toc: true \n",
    "- badges: true\n",
    "- comments: true\n",
    "- categories: [markdown]"
   ]
  },
  {
   "cell_type": "markdown",
   "metadata": {},
   "source": [
    "# Essential Knowledge\n",
    "- Procedure: is a named group of programming instructions that serves a purpose\n",
    "- There are two types of procedures, one that returns a value or some type of data and on that just executes a block of statements"
   ]
  },
  {
   "cell_type": "markdown",
   "metadata": {},
   "source": [
    "# Creating a Procedure\n",
    "- When you are picking a name for the procedure it must be descriptive\n",
    "- See if you need any parameters for this procedure (what data do you need to accomplish my goal? What king of information am I going to need?)\n",
    "- 2 of the parameters in the example below could be the quizGrade and currentPoints\n"
   ]
  },
  {
   "cell_type": "markdown",
   "metadata": {},
   "source": [
    "# Example \n",
    "currentGrade <= currentPoints / 40  <------ This is how many points the exam is out of\n",
    "currentGrade <= currentGrade * 100\n",
    "if currentGrade > quizGrade:\n",
    "    quizGrade <= currentGrade\n"
   ]
  },
  {
   "cell_type": "markdown",
   "metadata": {},
   "source": [
    "# Try it yourself\n",
    "\n",
    "1. Write a procedure that will rotate the robot below 180 degrees.\n",
    "\n",
    "![](https://lh3.googleusercontent.com/pw/AL9nZEWRccRbOfB34OOI_ZU85mr8xwb4J2mwLPcaHrHzm4zcFcN9aKEbtZFqqG9MYPMSPT3JvqqvpyKMiVl8QoOM8ZaVfTo8g3mcOLGlY_xS6BOu4gCd1NCsuXLeHrxLVKEVIIGTp1Fg_f_WJp5Qfwb_XxAAzsH54jcaAbsmwoat_-sukLiY2ppAJ5xFQqD9Bfxz6LYOnldrOQHxw1v-6uldMkxNzRKQUSyemeXVe5DD_RHSwWdUa2wg_tCRbGsci4PnW3TTX4mPdVHPg1cNEN2OQnRs8JUMCw66iZVTUuzMnNNzwNW_DnKVKsekIznSyWQDM3ZPOW_sdTB3LCG63fjTAEdC5iw_97PBpki-aGxj1cag1NTVoyzBcCPJmfZKeyhD8G8lhfOwhFI5DIJUels50XrJivmFB9FyeBc2i6BqGdPcIqLaiYXQFFjvKVFvuaI0jmRzqW-AUjPWtzF8GJ_-uit8EQQmYH1fnwxoAteL-SrAH1zy7m4idc44uIjSFmPSvvoFQdPubWDCkBfbiaajaLrGacRkAewx4v5V02ZuPV_JDTsK9iJWLElPVMW2sSxAu0ACufm4P4hYJpEdhK8WgLUKlxgpOrZZrFFLYeWNj3RQguA8csvi4EP5JNrSMaDGt_xCLz63-oaqC33pcWUqL8DBy9ZjUuyWAw4_LU0WaiGf0gEPoLttxggYVc4kCBOEfUGxUg1sXRh7dWCObDsy2F8JMtyzM3m61CeWA8d81WOrE8ToSElc3kWf27sIWjEpxeSpcVU9WGaLUy50XESHUabj05xV4ctPDWPAZ3XctfF4HGBkWq3I7oJ-leX8LqNGu8D1K2308XDdjgh0mL3mlCxzTzzWBOYJ3hHBA6stG2uPXJN_x47AZZs0v5F88MyZgc3ssVRav9_a87-xCHgEeQ=w528-h444-no?authuser=0)\n",
    "\n",
    "Tips: give it a descriptive name\n",
    "      use ROTATE_RIGHT() or ROTATE_LEFT() to turn left or right\n",
    "\n",
    "2. Write a procedure that will allow the robot to detour around a blaock by going to the left\n",
    "\n",
    "![](https://lh3.googleusercontent.com/pw/AL9nZEUri4vUlDY6FhCJqgoihDu97zhsq99ch4VlUPW044k1wTeDfLIA3omqz1QzuKGAy-mLl5nX5sZTbMxHVmGVaol47z0kawxZbLYrHj0rpjhFlmykQ6QRud1JDj4Cw2R9R34Ej4-dAy8e6GTxTjCpIR5BSHwhNNgWgBTIyGfrCe17nSbGkdngvfUkm1lPlI9GxbEC-SBV1xSzQTR5x0sxnl1HJlIWrPLqF3VAlX7Qj-cZnhZoXgJZerAsnvnX4ybNHCCj_6nYkPjqViVfDA9QVjlqsEA8GaU-kw9JLJMAO6CP8DhEyWVlbdHP00WdtVuIwS_BbZCLs_fWd6kJsQ6VrPPv3qqEh-4x7VtuAnIoLIqlJGdTN6UjbYS1y7WB6lXq84DylJ8XBO2vaIkl_vtQw2md0FmBgslWhi6eEri-hbGdGFupZqdiKFAVPPqBxb1FX_snDW030amoVbwSVXYngOFTOtP-A-IG-zxKtWaL-rQ-GOSinjEVbsJhsX9YXkSVcGbE28duE2fvuP-jWnvYCD6mDQiNxz5SyNrwlt_GRHOPWOrzEZ-2F7VDx-ZUiHoipHACWhwv3g4YRiLwbK0b36yWw0Nq0-QuJ-gztphavCC0h15gaCoeP4U4dCVsXgWSyzyMzFKxzxVIRUV1iu034Mi25pIgTHZQB1-an7YOUsrj5VvXx7MM7bpYff3gpVRBBipR1airX2eBKK2XIdLKysICqkECudcy4uFDn6i3GWM_PxceIzyrmrmZ7JSsMnKhAKj0T7ulbETVFS84Qg3y5zK_nCrwHDzeVEehNJQnmMiEOMjAs4HAqrs7fmXcQ5ztstKyix3Rxqrx0nxl1i6M-gAWwR4YVz6h7yiI7CeQnu0w2vzEgGcp6BsTnHh3oppATNiANV8IaxTAkw6P5fGTxw=w327-h273-no?authuser=0)\n",
    "\n",
    "Tips: use the tips in the previous problems\n",
    "      Use MOVE_FOWARD() to more one spot foward\n"
   ]
  },
  {
   "cell_type": "markdown",
   "metadata": {},
   "source": [
    "## Answer\n",
    "1. \n",
    "![](https://lh3.googleusercontent.com/pw/AL9nZEVwbPYfrpdrslqWS4VndMeIB53osg6JFAxzx2gOVucKNwe9XSjq1YFyu-tsAaApFm7IN9Gote49IRb_3Ndn7MGnMs6TwCLtBMVOKNN25N4hx8NXt8GS8Vpxv4EVtsqDPe_V06-rzLt1BEvmv6oi66_1CDcx3Pnbs9e0JD3_x-F7tubSKlGvnqyMZuowwYi7dH4sXc7GHVAowlJ2KmghX4lDv2d-ANesNWEwgtT_iP16zoGq6VSaCVPl2TCnqhrDwtPloCit3GEbBplH6s166wMalNg3fy2ADzbnFYYEcmHnlFx-ibItnd-rQUEyxa1feOTdo0rUCSwbqMEYcSZQSwV5TutyuMH-Han1He0pYc1mgkL3I3Df0uUNGtDfQfv7BosaabaO0Pu0KiY88MbE-bTnIKgr54chSK6_lBcUj37VRg077Bn3bTYGNISihiIc9mHfkcZUdv9i-gljiO_2eihFYzioUHrXWd5oIShYLQf5ZGw9aOm1DZoPwq1E-ZA7FnaVotKOP5QBZkzSo2UZfdXYDpL74lkWlmkcs_E5e-LSgwCxZdnGws3WONA_ZlJMb7rfw28Twc6k8XUcbZvY58mrVmIfpPhLSr2KYxCcU_3md0l185szSSO8QvlXHGUF83i9My5SrBIZnifoUVZMdcmvcnUHVbPDKmqKH9bGI6O8YHNP_geO8re7xOjN2I0tu2GaJ7P3vN7XsFNY4CE-jBxzS8If3PUJ1gphuWOBh2R4q1Q66ebSH61Hp0Wxokp4Ba6W2-Opu5pUGA2YqKfQ062Q2Rg8qja8mCA-bUsIU-J8taUIroYGti9cvCLuIUe1fP6E0daKcNJuP7zD3rXZtE61-Ztc-3qCXwRJgnRz5BuxBGBTVEmfO1MN5iBWShE4lW0KFZSwKvoHRkQ6sYYT2A=w330-h184-no?authuser=0)\n",
    "\n",
    "2. \n",
    "![](https://lh3.googleusercontent.com/pw/AL9nZEUQmGs5lVPI8Wm2C0jewPiODKggakVFVIPlTSBPWJQ-PUoiFyaJD4jugtiBC24O2pp4pzko8FI4LNEG37KTsFPFbIhzjiDePvlLtRmXpv0H7fgVncYNEwftUChwJG2TL26DHbXsjxNLhxrD_8C-S1_mm2FwOfy-TxpVb6Z1z20ctwNYCfxlRO9-K8upW6X3GKF6RnfMSL6R_h0YJJoIpB9rvW46SPsPOxeUvAXpulnHDDCmOBxcC2jedglWcwOrnLEb5H2pIWvU6XaW-4xqbxhehOWu_m2LDy5SPBsNCBcSe7T0CWiiD1hxBcJeRZgC7VpHjEeBuM3ZnLXP0mt3Aqh5ttqUA_c87MZ0IwpjbwHkoftaE7PIOSVlUKGaqRlrsdoGJ2kxdkq5dLj2azSYsdKj7LaQ7qRzWIcPmkivS9kLv7yvOKK9GT6KFI2uGlNuggShaHU-GDIL_qCGDdQHkPQMkTdihXWK0GdOXHTDgb02HqSi4ThIw6xIZg8z0rHArgIrFi_blsAF9TviJnvgAl1ESMInxh5iOnEKstjybCH-10QdTGPg73ThsSMq2velQDQRj5Vm4a8z-3mGr4o4nnlQAjVp_WfcwUzZI2boXbjeL5xt4K_EtT4yfD8g7Ppi89YyuJiynxKG6of61-5UzSN8i0Ns1cpMPpp_0H-t8MvjPtydpNB1RYnHOxmRfzLiw4qKbojuKndU_WLkrnDPjIvoT5iiKghdyvtlUO7FubHeKKc-pqBlE52VEOkUcMWWS5hCGBBbXOF6kpGVAPtfisTrjQSY6WDouELRU_w_IUqleLbEHgKdoMw1RFZRYIN_Qndh6X7D21uyAzKEEf-WALYm-4uH4fvDqwFzDlc2SS_Vqav6rkKR9oz7JoiOpff35JRMLiakURoJP08CMvU-Og=w616-h396-no?authuser=0)\n"
   ]
  }
 ],
 "metadata": {
  "kernelspec": {
   "display_name": "Python 3.9.6 64-bit",
   "language": "python",
   "name": "python3"
  },
  "language_info": {
   "codemirror_mode": {
    "name": "ipython",
    "version": 3
   },
   "file_extension": ".py",
   "mimetype": "text/x-python",
   "name": "python",
   "nbconvert_exporter": "python",
   "pygments_lexer": "ipython3",
   "version": "3.8.9"
  },
  "orig_nbformat": 4,
  "vscode": {
   "interpreter": {
    "hash": "31f2aee4e71d21fbe5cf8b01ff0e069b9275f58929596ceb00d14d90e3e16cd6"
   }
  }
 },
 "nbformat": 4,
 "nbformat_minor": 2
}
