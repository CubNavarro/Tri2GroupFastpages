{
 "cells": [
  {
   "cell_type": "markdown",
   "metadata": {},
   "source": [
    "# 3.13 Developing Procedures Part 1\n",
    "> Lesson about developing procedures\n",
    "- toc: true \n",
    "- badges: true\n",
    "- comments: true\n",
    "- categories: [markdown]"
   ]
  },
  {
   "cell_type": "markdown",
   "metadata": {},
   "source": [
    "# Essential Knowledge\n",
    "- Procedure: is a named group of programming instructions that serves a purpose\n",
    "- Parametert: are input values of a procedur\n",
    "- There are two types of procedures, one that returns a value or some type of data and on that just executes a block of statements"
   ]
  },
  {
   "cell_type": "markdown",
   "metadata": {},
   "source": [
    "# Creating a Procedure\n",
    "- When you are picking a name for the procedure it must be descriptive\n",
    "- See if you need any parameters for this procedure (what data do you need to accomplish my goal? What king of information am I going to need?)\n",
    "- 2 of the parameters in the example below could be the quizGrade and currentPoints\n"
   ]
  },
  {
   "cell_type": "markdown",
   "metadata": {},
   "source": [
    "# Example \n",
    "\n",
    "![](https://lh3.googleusercontent.com/CBFShPmB1uVTTL0BwaMoMWY6mSZ5RC7uC9d1-n-Hm7Ta8KPBEGnElXZrG5i6GYeBzTVwA3W74FRiyK-fWd1Jx6jYmTdbZ5ZtQOf8rh5g_OyZKPcLz5j4J6IckdDKcjJdaNO-AioVvAg6OnjEqbSmJIdKRTAHUXKBI2FVgeL6FM3ewva_5anf65mJvtSXuajZ8ZcugZTI14TP79irTFSeOtrw5JlzZTjyQuooh4ri9asJMj5_Ce1esqCC7VPzRvwDixCbpMRuxQXXEcyPhSsm-xdG3dl74AEU6MKuGwcPHbni_4AevWXYj-6ObSTh9Mfwgn7MoVBJnkRH2v4De9JFLC6ZOPUIwhYTnt7QWunQ-B1lZRzpRTArD-jnMfVY543vDfd3W4g-Dr-7gPl18R4VclQJrTIRcvsqCtStWqgpyNtRqMfnBMldGoYVBZbvksin7IVM8Am2ICtPhyFghGxdWRtxejh-DXoWox2rEZVbBoNy2-v113dLV2ERQNQbML3wfQTlG2AedgjkU3MxT0UiVqeB8CMPUGxgTDZVOtN8Vf7qHTMiXc1rPseqQIrScPKNYAZjwnI1zUM9xM2Ix7InmuHQKp-ZmLLTF6wvTUMtImEuCD7QBihk5jfwIGn9YLW_h_qUSEYquR5Rpm-SpeSc9k0OKMW0orRGGR6GFbOq2-fdbpRFNTs38EElgoTkNhILRVjEbDfbM7viqqQqtnj6G1hcblUQlK_cioXcV59X1Xgc-w7hJNX1RfviMhxM0veJQugI3A0Vm7cDRTMc5MH_gBfpVagrhN_wFzQx_-eeqWJMDYDI3V3QmxzsP0V40sd6MZtGhU5i0DXZRuHqZFwOapAsciKM8bLof4v7iZt5GBGxcOl-Bfc6iBLODkL5ToQINYGVlCPw4Gzs2iArW-m3qVnTZp2A06QyC3IQe68aN1k_=w1302-h144-no?authuser=0)\n"
   ]
  },
  {
   "cell_type": "markdown",
   "metadata": {},
   "source": [
    "# Try it yourself\n",
    "\n",
    "## 1. Write a procedure that will rotate the robot below 180 degrees.\n",
    "\n",
    "![](https://lh3.googleusercontent.com/cgxcEriXc5yvuhDGXJozspMnRWUGKQqZQHDPTS1FKiHYD5DNsOq5zGILhP8IlHkR4w7y7COGTutLtuJvl1x-Y-AN_PXuz3_7QQovRWynnKuEcnlnuG_TgyZ7MKDYWMVykDXTRGOp7jJVVlURDbXN23GKOTS5PPuMSB69mahwgx_o85h1fKlPBad23uX1ML0PQsG1fSz8PtXRWEBYfi8MHzq8XElIcF72Xhr00Ci3GGJBgDm0ftdVrUpEGjqxhT8ltEHlYU9NT59DkzTgwvTU-PPeIJ6pYTJGbJKNkVti4GJRqRGsNH5Lv964yWYJgTGHI4iPSWbjwXUtClN-SvLr2V0fZUn_KtdglGfre7CWtgMRwl5Wgk52FDmZcsVFwaI2KUVub48UtyYTJAgaBgd0mpmL-t-Sfj1utVJZfOX9PfMPVCKxeNQNfnM3a0VBzw65xIR5dvwZcHdc_dN1XrLH2XZM4rI9FPQhhd3Mdt1N-cRp8mem95KwOLDeR5y2rQFsueEQOktMLjGSIWzs6BGMbKjQTe0YiiOx4XyMFje00kPbVNtV1Q65PrvpQ7liXUpUI1wXCQJ807mJu-iid6sXZC_fBEl0VOw_2WwHoNlzX7x0r0ZesjaeBW1jNtzvo31NpboNhDCqv-SiLB1wUvF8Y9jfN6FV7Dm1aTTT_4q4QOmvnoVHgmiechdNDB2jkYopgRb5SRffpwCvU5kzHqPcHjERDMl_vmU5Z9I9aa4dkVR5oK8dy1Ak0fhtde1EnKIuwVh4R4TIAS8bwYb4g53Ix_yT9FGZ7OyJiKBOiaE5qtmDP4l4uhWcZi72K_Ux1ZJZHNdmh8WOVZcY8lyIcwhUwerOwaqlgLyBjuCOyVTmzTG-AWvLK8LoDtDd5yJdW784I2CfCHuzHP2lcheQu3ycI2TlAAHzUKmLQ8MqwG0vVhC_=w528-h444-no?authuser=0)\n",
    "\n",
    "Tips: give it a descriptive name\n",
    "      use ROTATE_RIGHT() or ROTATE_LEFT() to turn left or right\n",
    "\n",
    "## 2. Write a procedure that will allow the robot to detour around the block by going to the left.\n",
    "\n",
    "![](https://lh3.googleusercontent.com/ZSnmkKZsjwasEwk5jhlfVOu_a7LuLkyT9i7Bt8GL9xgIqioB-1Za1kVzFNVBlKuvBNVRsXnzFTrtHrUD3TzMwmkMR81Q56hbjhs705gACsLp8zjqAFx2yIyKRqR6kp4mf1xNOW47cOy3voscMLmkU0P_gBXJwK3e852ytSrIKXdYQxggFRAt_7jud40DCwzSLzs-zgAShGMFdko9hr-W8kuk5rg-p8xfXLMS9w9zYYWlxT82D4UKcRLYPpRgWSFGviohKASX8k1JrFQtw1CpOgopYoy5SrT2fxm115uLscAPFQIp7CP_iXNw9Eu1-19QN8ponBupQF0GbH4KOUZDwrTnVq6-ekF1gFuBwp8HLEtZsUcclRWt3z0JFF7J4ZJAakpGVcoYDcdmSYYgpCuJLIz0XgG0RhnGZ-Nel_dwx8r7RFGVryD1q_qAGxgl9X-nceBRQNbe7oBRk-YbwhX__EsjOM-CWw00MN93cw35nGv1STP8wEpRMChffKFaCCHUQx1WkFnCepgLqshWPyABgewGvhRJQfBhNH96Oj7CFRachfuu0aPMae8Ut1G7bkawjiWyMZfjMJmSV8IenLXY0KLgXa1-Mqjgz2NeDkR_QcMeikOBGSgRefHNjFJoZo-utaLQAf680oU6MGY-LQ7gFLV7COdpi1GTZ-d5f-hmXnU41aiSqY0Rmj5apK28_E0yH-xTQmy7YiIndn4wcySD76Lx5Jb-k9mJ0mgPp74I-AR1AJgPEtYHaHIqHtrgXkf-75_hT2IqNXNmPRi8184xv9yCwH6VaO5sPgZz8VIHJxJzDjOXc68KlntLjgSnJ1Ep9BzlFFuLdFpd9znYXunfeH8vYihV-2CpXxMbmHIxfSP2swVQynsUf9dUxQK_yD044CWi1VEBeHHMS3lJ7XCamfmWWvgv1uojjGDSB7N8r0Ns=w782-h652-no?authuser=0)\n",
    "\n",
    "Tips: use the tips in the previous problems\n",
    "      Use MOVE_FOWARD() to more one spot foward\n"
   ]
  },
  {
   "cell_type": "markdown",
   "metadata": {},
   "source": [
    "## Answer\n",
    "1. \n",
    "![](https://lh3.googleusercontent.com/cqaskkBU5NOSTkhi-iQ-q7Uq-XO1pz53TQI3Z2YIpIT_jD_K2z3aBdS6dWmcA7KBziwKdRBGWzfBWwsGJMD88Gdwjhun1DoJfxUccfRuUTmPqOUg8Wgi9BTjZGbZqVBnrxmO9iwa-47zhfY9jYx0lzv0hPreuzzYOJmyHybFJzJv9lRTDFdkTNVztUEvwUngRVLEPbQL83jT5uX-8fvS4W6YyOCXDGdoonzGnEiXVY7_15SZwLuVcH01mRfYeF7tEiDXIvOZWC-KaUcbZK0-3bimVWlD55zwjPpRdGoKMht2bZeyXMY6JmdHFggrxTNeiXhy0V_6A6KPAT22cgJVZhgcXB_C8VSjNcn40ZEboiBDMUCdMyQDNwnclfDWQfFzYNTCScH3IePzxmlbtKktg2NKAxyREfiG96FBYaTLeMYvmAqkH-dkX5JAkMsuZP0u6e7aDnZInrpyIHkgXq6U04HZBtlhy9Yl4UYLgj4m9I4Ui6t8ovvkAnMKfnkW0IqSbDkYPWgsuu0GGtClivx9m-dIt6S5HpwgZQPtOJvWKxtEFHlQyn-4l_OklO9FtlkSc4d8pBrU8slEv51rD8C-itnhaTpauSAnYWr2aBIDQFl1V1G1OwRm8hTfybSqukbcpD2taGd5QItol5Vu_Xv93t-wVcZZuW4b0bwKqKvWA15OVKsUpnmlINSzHgnN-ATjzT6R3bkhU_SegIse2RCkkCxCeiw3hvHNrvy1DB_-I4RqsJc7J6YFmzukgxkPhqmixhT2LLYFgKUDtdaMSFGo-ULPP1AMBdvW5Pi7vHAeAcQOJZ14RtjZgf6vIIg1AOpM_TJJ2D-WLH-lPgTs33HHw9e2BCwU9zRfpq16srygGZgc1pgEhnNv_c7Jq9t1hu2NIiQUWFAWXWJm4mskxTWsWSh8gtERMH_u3Sc1Ft3UFiZ_=w330-h184-no?authuser=0)\n",
    "\n",
    "2. \n",
    "![](https://lh3.googleusercontent.com/Ko4_FT8w_sjY5o6M-PDkd6QRt0z8TV8qoRVI0LmxDpiRoxA8gnXd44goA9IwaM6vq3f3NRtjAMpXQgPSDfjkYPeEOQa4m_P7OL7ySJH1pAczBkJj6KFaC5L1X1NyDE-qfK789KBx2j0ZaU2Wqeii9Etv6cGLINjQc8twytiKP7YBYy_Cy2q_m9vcmPFwqg5CNjySkTBTbQ_8fB22GV3wSiE-UXRQp9LnGXWrTA1DzUkX0uWy9n7d9eSCGj616vv0lh0QJvPM-EaY604-6FX6CT8zQa7nESI8z4i5N-K01y3dgcnlJbbK_cVI1TGcwerfU-fFahqGWYwcnR7knnpJmfrqGv6ZwO5Q-vItshDzsIyFb7DgQqSfGwDBEtHCLPeuJO-I0G1DEqHSTtpKvbbegqGgCNWorAH5Narzk6B9l1Vwf2ipJpkJMynKpowceBdiCacMhE9Bw5tuh--DqmVH4CpjhwDPYikft0u-jnDsCEWrwVRQ4WnPE8Eg0zo0jwnUoDLz-WIkMrQFR-8ZsX9024SS-PBhEXqkHo0ZVaMk2zbfabqtjVFZbQ1uVd_SKsmXsOTq1B6GuVdWEouyyU00dfGAc3rbLwKy4NqueodxwQgEprAVyKxneCSbkoi9SiVqRyXalbopJJwFKBQrBPTK6MbannIMCw3zpfzlu9RryYTEili047eTLs82fulPj2SrumeENrMN6loLkzGWdvhlUBNIe4hvvAH_kKHEw9JV4juOK9OeA0VcjcPU-097cWv-t5y5yu1GSAMBFMjG9TwkLBxoZy3SYgDkN2XLvjpW-mCIaPJaT96Xhl9WnKqgYofyue_poquCbLSLXMwVgrMki21PlyWHTpWnS7-FlSp9XczBFbHsbgFCeZM5NqUEL9b71nvTZ8iXp_ZenT3f54In2UpTnVc4t9iUjMlvXXW1Ww_7=w616-h396-no?authuser=0)\n"
   ]
  }
 ],
 "metadata": {
  "kernelspec": {
   "display_name": "Python 3.9.6 64-bit",
   "language": "python",
   "name": "python3"
  },
  "language_info": {
   "codemirror_mode": {
    "name": "ipython",
    "version": 3
   },
   "file_extension": ".py",
   "mimetype": "text/x-python",
   "name": "python",
   "nbconvert_exporter": "python",
   "pygments_lexer": "ipython3",
   "version": "3.9.6"
  },
  "orig_nbformat": 4,
  "vscode": {
   "interpreter": {
    "hash": "31f2aee4e71d21fbe5cf8b01ff0e069b9275f58929596ceb00d14d90e3e16cd6"
   }
  }
 },
 "nbformat": 4,
 "nbformat_minor": 2
}
