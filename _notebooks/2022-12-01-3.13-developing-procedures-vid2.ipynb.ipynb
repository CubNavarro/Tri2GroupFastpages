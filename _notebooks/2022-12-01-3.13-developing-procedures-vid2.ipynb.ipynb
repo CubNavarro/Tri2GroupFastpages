{
 "cells": [
  {
   "cell_type": "markdown",
   "metadata": {},
   "source": [
    "# Developing Procedures 3.13 Part 2"
   ]
  },
  {
   "cell_type": "markdown",
   "metadata": {},
   "source": [
    "# Essential Knowledge\n",
    "- Procedure-is a named group of programming instructions that serves a purpose\n",
    "- How to code Procedures-While Coding a procedure you must makes sure it has as name and a clear purpose weather to executre a response or complete an action\n",
    "- One common type of abstraction is procedrual abstraction, which provides a name for a process and allows a procedure to be only knowing what it doe,not how it does it. \n",
    "- The subdivision of a computer program into sepearate subprogrames is called modularity,"
   ]
  },
  {
   "cell_type": "markdown",
   "metadata": {},
   "source": [
    "# How do we make our procedure purposeful and consice\n",
    "- to make a procedure serve a purpose it should be able to hae multiple functions\n",
    "- Also to keep a procedure maximizing capability it should be simple and reduced to get the final result "
   ]
  },
  {
   "cell_type": "markdown",
   "metadata": {},
   "source": [
    "# What is important to do while writing procedures\n",
    "- It is important to understand you procudeures procedure does when creating one as it will help you create a impactful procedure"
   ]
  },
  {
   "cell_type": "markdown",
   "metadata": {},
   "source": [
    "### Procedure That Update Grade Based on retake\n",
    "- after you take a quiz your teacher lets you retake it for full credit in which your are able to replace your grade \n",
    "- TEST WITH first quiz GRADE is 40% and second is 90%\n",
    "- PROCEDURE updateGRADE {  points, current grade,new grade\n",
    "   - currentGrade = current points /75\n",
    "   - currentGrade = current crade * 100\n",
    "  -  if currentGrade > quizGrade\n",
    "  -  return currentGrade\n",
    " }\n"
   ]
  },
  {
   "cell_type": "markdown",
   "metadata": {},
   "source": [
    "# How to change your procedures to add more elements into it "
   ]
  },
  {
   "cell_type": "markdown",
   "metadata": {},
   "source": [
    "- First we start off with this coding segment which shows us what we need to do Suppse we use numbers 74 35 40\n",
    "- ![]({{site.baseurl}}/images/quizupdate.png \"https://github.com/fastai/fastpages\")\n",
    "\n"
   ]
  },
  {
   "cell_type": "markdown",
   "metadata": {},
   "source": [
    "- PROCEDURE updateQuiz (74,35,40) {\n",
    "- temp average = 0.875\n",
    "- tempAverage = 87.5\n",
    "- 87.5>74 True }\n",
    "- This will return 87.5\n",
    "- However Suppose we CANNOT accept decimals how would we do this?"
   ]
  },
  {
   "cell_type": "markdown",
   "metadata": {},
   "source": [
    "#### Update Function \n",
    "\n",
    "- ![]({{site.baseurl}}/images/update.png \"https://github.com/fastai/fastpages\")"
   ]
  },
  {
   "cell_type": "markdown",
   "metadata": {},
   "source": [
    "# Why are Procedures Important \n",
    "- Procedures are significant in a program as they can be manipulated to complete tasks and function as you saw with the previous problem. "
   ]
  }
 ],
 "metadata": {
  "kernelspec": {
   "display_name": "Python 3.9.6 64-bit",
   "language": "python",
   "name": "python3"
  },
  "language_info": {
   "name": "python",
   "version": "3.9.6"
  },
  "orig_nbformat": 4,
  "vscode": {
   "interpreter": {
    "hash": "31f2aee4e71d21fbe5cf8b01ff0e069b9275f58929596ceb00d14d90e3e16cd6"
   }
  }
 },
 "nbformat": 4,
 "nbformat_minor": 2
}
