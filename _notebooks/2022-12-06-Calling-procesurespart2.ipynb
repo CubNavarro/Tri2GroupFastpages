{
 "cells": [
  {
   "cell_type": "markdown",
   "metadata": {},
   "source": [
    "# 3.12 Calling Procedures Part 2\n",
    "\n",
    "> Lesson about Calling Procedures.\n",
    "- toc: true \n",
    "- badges: true\n",
    "- comments: true\n",
    "- categories: [markdown]"
   ]
  },
  {
   "cell_type": "markdown",
   "metadata": {},
   "source": [
    "A $80 item recives a 20% discount and a tax is 8%\n",
    "\n",
    "PROCEDURE applyDiscount (cost, cpercentDiscounted)\n",
    "{\n",
    "    temp <-- 100 - percentDiscounted\n",
    "    temp <-- temp / 100\n",
    "    cost <-- cost x temp\n",
    "    Print(cost)\n",
    "}\n",
    "\n",
    "PROCEDURE applytax (cost, cpercentDiscounted)\n",
    "{\n",
    "    temp <-- 100 + percentTaxed\n",
    "    temp <-- temp / 100\n",
    "    cost <-- cost x temp\n",
    "    Print(cost)\n",
    "}\n",
    "\n"
   ]
  },
  {
   "cell_type": "markdown",
   "metadata": {},
   "source": [
    "## Tempature Procedure\n",
    "\n",
    "This procedure is used to Convet Fehrenheit to Celsius \n",
    "\n",
    "What is 80 degrees in Celcsius?"
   ]
  },
  {
   "cell_type": "markdown",
   "metadata": {},
   "source": [
    "PROCEDURE convet Fahrenheit (tempature)\n",
    "{\n",
    "    Celsius <-- tempature - 32\n",
    "    Celsius <-- Celsius x 5/9\n",
    "    Print (Celsius)\n",
    "}"
   ]
  },
  {
   "cell_type": "markdown",
   "metadata": {},
   "source": [
    "## Drawing Squares\n",
    "\n",
    "Procedure Call \n",
    "\n",
    "drawsquare (xPos, yPos, sidelength)\n",
    "\n",
    "This draws a square starting in the bottom left corner (xPos, yPos) on the grid with the sidelength"
   ]
  },
  {
   "cell_type": "markdown",
   "metadata": {},
   "source": [
    "x <-- 2\n",
    "y <--3\n",
    "s <-- 4\n",
    "drawSquare(x,y,s)\n",
    "\n",
    "x <-- x+2\n",
    "y <-- y-1\n",
    "\n",
    "drawSqaure(x,y,s)"
   ]
  }
 ],
 "metadata": {
  "kernelspec": {
   "display_name": "Python 3.10.6 64-bit",
   "language": "python",
   "name": "python3"
  },
  "language_info": {
   "name": "python",
   "version": "3.10.6"
  },
  "orig_nbformat": 4,
  "vscode": {
   "interpreter": {
    "hash": "dcd4837add793386cd67e25a441830de5b4a5ceabdd5dcba5a317ceae751db5e"
   }
  }
 },
 "nbformat": 4,
 "nbformat_minor": 2
}
