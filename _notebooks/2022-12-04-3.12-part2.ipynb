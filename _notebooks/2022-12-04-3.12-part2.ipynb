{
 "cells": [
  {
   "cell_type": "markdown",
   "metadata": {},
   "source": [
    "# Calling Procedures 3.12 Part 2\n",
    "> Lesson about Calling Procedures.\n",
    "- toc: true \n",
    "- badges: true\n",
    "- comments: true\n",
    "- categories: [markdown]"
   ]
  },
  {
   "cell_type": "markdown",
   "metadata": {},
   "source": [
    "## Procedures\n",
    "\n",
    "Procedures are that a catch-all term for codes used to identify what was done to or given to a patient"
   ]
  },
  {
   "cell_type": "markdown",
   "metadata": {},
   "source": [
    "A $80 item recives a 20% discount and a tax is 8%\n",
    "\n",
    "PROCEDURE applyDiscount (cost, cpercentDiscounted)\n",
    "{\n",
    "    temp <-- 100 - percentDiscounted\n",
    "\n",
    "    temp <-- temp / 100\n",
    "\n",
    "    cost <-- cost x temp\n",
    "\n",
    "    Print(cost)\n",
    "}\n",
    "\n",
    "PROCEDURE applytax (cost, cpercentDiscounted)\n",
    "{\n",
    "    temp <-- 100 + percentTaxed\n",
    "\n",
    "    temp <-- temp / 100\n",
    "\n",
    "    cost <-- cost x temp\n",
    "    \n",
    "    Print(cost)\n",
    "}\n",
    "\n"
   ]
  },
  {
   "cell_type": "markdown",
   "metadata": {},
   "source": [
    "## Tempature Procedure\n",
    "\n",
    "This procedure is used to Convet Fehrenheit to Celsius \n",
    "\n",
    "What is 80 degrees in Celcsius?"
   ]
  },
  {
   "cell_type": "markdown",
   "metadata": {},
   "source": [
    "PROCEDURE convet Fahrenheit (tempature)\n",
    "{\n",
    "    Celsius <-- tempature - 32\n",
    "    Celsius <-- Celsius x 5/9\n",
    "    Print (Celsius)\n",
    "}"
   ]
  },
  {
   "cell_type": "markdown",
   "metadata": {},
   "source": [
    "## Drawing Squares\n",
    "\n",
    "Procedure Call \n",
    "\n",
    "drawsquare (xPos, yPos, sidelength)\n",
    "\n",
    "This draws a square starting in the bottom left corner (xPos, yPos) on the grid with the sidelength\n",
    "\n",
    "x <-- x + B\n",
    "\n",
    "y <-- y + B\n",
    "\n",
    "This equation tells how much to move the square left or right, up or down by B. "
   ]
  },
  {
   "cell_type": "markdown",
   "metadata": {},
   "source": [
    "x <-- 2\n",
    "y <--3\n",
    "s <-- 4\n",
    "drawSquare(x,y,s)\n",
    "\n",
    "x <-- x+2\n",
    "y <-- y-1\n",
    "\n",
    "drawSqaure(x,y,s)\n"
   ]
  }
 ],
 "metadata": {
  "kernelspec": {
   "display_name": "Python 3.9.6 64-bit",
   "language": "python",
   "name": "python3"
  },
  "language_info": {
   "name": "python",
   "version": "3.9.6"
  },
  "orig_nbformat": 4,
  "vscode": {
   "interpreter": {
    "hash": "31f2aee4e71d21fbe5cf8b01ff0e069b9275f58929596ceb00d14d90e3e16cd6"
   }
  }
 },
 "nbformat": 4,
 "nbformat_minor": 2
}
