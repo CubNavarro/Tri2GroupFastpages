{
 "cells": [
  {
   "cell_type": "markdown",
   "metadata": {},
   "source": [
    "# 3.12 Calling Procedures Part 2\n",
    "> Lesson about Calling Procedures.\n",
    "- toc: true \n",
    "- badges: true\n",
    "- comments: true\n",
    "- categories: [markdown]"
   ]
  },
  {
   "cell_type": "markdown",
   "metadata": {},
   "source": [
    "## Essential Knowledge \n",
    "\n",
    " - Procedures are that a catch-all term for codes used to identify what was done to or given to a patient\n",
    "\n",
    "- If you have a set of statements in a procedure the statement will go thought the top of the procedure to the bottom in order."
   ]
  },
  {
   "cell_type": "markdown",
   "metadata": {},
   "source": [
    "## Practice Problem\n",
    "\n",
    "Here is a practice problem that involves calling a procedure by haveing an imput and an output. This is a apply discout and apply tax procedure.\n",
    "\n",
    "\n",
    " $80 item recives a 20% discount and a tax is 8%\n",
    "\n",
    "PROCEDURE applyDiscount (cost, cpercentDiscounted)\n",
    "{\n",
    "    temp <-- 100 - percentDiscounted\n",
    "\n",
    "    temp <-- temp / 100\n",
    "\n",
    "    cost <-- cost x temp\n",
    "\n",
    "    Print(cost)\n",
    "}\n",
    "\n",
    "PROCEDURE applytax (cost, cpercentDiscounted)\n",
    "{\n",
    "    temp <-- 100 + percentTaxed\n",
    "\n",
    "    temp <-- temp / 100\n",
    "\n",
    "    cost <-- cost x temp\n",
    "    \n",
    "    Print(cost)\n",
    "}\n",
    "\n"
   ]
  },
  {
   "cell_type": "markdown",
   "metadata": {},
   "source": [
    "## Tempature Procedure\n",
    "\n",
    "This procedure is used to Convet Fehrenheit to Celsius \n",
    "\n",
    "What is 80 degrees in Celcsius?"
   ]
  },
  {
   "cell_type": "markdown",
   "metadata": {},
   "source": [
    "PROCEDURE convet Fahrenheit (tempature)\n",
    "{\n",
    "\n",
    "    Celsius <-- tempature - 32\n",
    "    \n",
    "    Celsius <-- Celsius x 5/9\n",
    "    \n",
    "    Print (Celsius)\n",
    "}"
   ]
  }
 ],
 "metadata": {
  "kernelspec": {
   "display_name": "Python 3.9.6 64-bit",
   "language": "python",
   "name": "python3"
  },
  "language_info": {
   "name": "python",
   "version": "3.9.6"
  },
  "orig_nbformat": 4,
  "vscode": {
   "interpreter": {
    "hash": "31f2aee4e71d21fbe5cf8b01ff0e069b9275f58929596ceb00d14d90e3e16cd6"
   }
  }
 },
 "nbformat": 4,
 "nbformat_minor": 2
}
