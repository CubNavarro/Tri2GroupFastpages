{
 "cells": [
  {
   "cell_type": "markdown",
   "metadata": {},
   "source": [
    "# 3.13 Developing Procedures Part 1\n",
    "> Lesson about developing procedures\n",
    "- toc: true \n",
    "- badges: true\n",
    "- comments: true\n",
    "- categories: [markdown]"
   ]
  },
  {
   "cell_type": "markdown",
   "metadata": {},
   "source": [
    "# Learning Objective\n",
    "\n",
    "- Develop procedural abstraction to manage a program by writing procedures"
   ]
  },
  {
   "cell_type": "markdown",
   "metadata": {},
   "source": [
    "# Essential Knowledge\n",
    "- Procedure: is a named group of programming instructions that serves a purpose\n",
    "- Parameter: are input values of a procedur\n",
    "- There are two types of procedures, one that returns a value or some type of data and on that just executes a block of statements"
   ]
  },
  {
   "cell_type": "markdown",
   "metadata": {},
   "source": [
    "# Creating a Procedure\n",
    "- When you are picking a name for the procedure it must be descriptive\n",
    "- See if you need any parameters for this procedure (what data do you need to accomplish my goal? What king of information am I going to need?)\n",
    "- 2 of the parameters in the example below could be the quizGrade and currentPoints (need this data)\n"
   ]
  },
  {
   "cell_type": "markdown",
   "metadata": {},
   "source": [
    "# Example \n",
    "\n",
    "- If you retake a quiz and you get a higher grade than your original grade then your quiz grade will update to the recent grade\n",
    "![](example.png)"
   ]
  },
  {
   "cell_type": "markdown",
   "metadata": {},
   "source": [
    "# Try it yourself\n",
    "\n",
    "## 1. Write a procedure that will rotate the robot below 180 degrees.\n",
    "\n",
    "![](180degrees.png)\n",
    "\n",
    "Tips: give it a descriptive name and\n",
    "      use ROTATE_RIGHT() or ROTATE_LEFT() to turn left or right\n",
    "\n",
    "## 2. Write a procedure that will allow the robot to detour around the block by going to the left.\n",
    "\n",
    "![](detour.png)\n",
    "\n",
    "Tips: use the tips in the previous problems and\n",
    "      Use MOVE_FOWARD() to more one spot foward\n"
   ]
  },
  {
   "cell_type": "markdown",
   "metadata": {},
   "source": [
    "## Answer\n",
    "1. \n",
    "![](answer1.png)\n",
    "\n",
    "2. \n",
    "![](answer2.png)\n"
   ]
  }
 ],
 "metadata": {
  "kernelspec": {
   "display_name": "Python 3.9.6 64-bit",
   "language": "python",
   "name": "python3"
  },
  "language_info": {
   "codemirror_mode": {
    "name": "ipython",
    "version": 3
   },
   "file_extension": ".py",
   "mimetype": "text/x-python",
   "name": "python",
   "nbconvert_exporter": "python",
   "pygments_lexer": "ipython3",
   "version": "3.8.9"
  },
  "orig_nbformat": 4,
  "vscode": {
   "interpreter": {
    "hash": "31f2aee4e71d21fbe5cf8b01ff0e069b9275f58929596ceb00d14d90e3e16cd6"
   }
  }
 },
 "nbformat": 4,
 "nbformat_minor": 2
}
