{
 "cells": [
  {
   "cell_type": "markdown",
   "metadata": {},
   "source": [
    "# 3.12-3.13 Homework/Hacks\n",
    "\n",
    "- toc: true \n",
    "- badges: true\n",
    "- comments: true\n",
    "- categories: [markdown]"
   ]
  },
  {
   "cell_type": "markdown",
   "metadata": {},
   "source": [
    "# 3.12 Homework/Hacks"
   ]
  },
  {
   "cell_type": "markdown",
   "metadata": {},
   "source": [
    "# 3.13 Homework/Hacks\n",
    "\n",
    "### #1. Create a procedure that is meant to replace the top running backs yards per game in one season if the current running back has more yards per game\n",
    "\n",
    "- Necessary Parameters: toprbyardspg(100), currentrbyards(1260), totalGames(12)   \n",
    "\n",
    "\n",
    "<details closed>\n",
    "    <summary>Click for hint</summary>\n",
    "        Refer back to 3.13 Developing Procedures Part 1\n",
    "    </details>\n",
    "\n",
    "### #2. Write a procedure that will allow the A+ to get to the 1, while avoiding the black boxes.\n",
    "Use what you learned about moving robots\n",
    "\n",
    "![](homework2.png)\n",
    "\n",
    "<details closed>\n",
    "    <summary>Click for hint</summary>\n",
    "        Refer back to 3.13 Developing Procedures Part 1\n",
    "    </details>"
   ]
  },
  {
   "cell_type": "markdown",
   "metadata": {},
   "source": [
    "<script src=\"https://utteranc.es/client.js\"\n",
    "        repo=\"[Tri2GroupFastpages]\"\n",
    "        issue-term=\"pathname\"\n",
    "        theme=\"github-light\"\n",
    "        crossorigin=\"anonymous\"\n",
    "        async>\n",
    "</script>"
   ]
  }
 ],
 "metadata": {
  "kernelspec": {
   "display_name": "Python 3.9.6 64-bit",
   "language": "python",
   "name": "python3"
  },
  "language_info": {
   "name": "python",
   "version": "3.9.6"
  },
  "orig_nbformat": 4,
  "vscode": {
   "interpreter": {
    "hash": "31f2aee4e71d21fbe5cf8b01ff0e069b9275f58929596ceb00d14d90e3e16cd6"
   }
  }
 },
 "nbformat": 4,
 "nbformat_minor": 2
}
