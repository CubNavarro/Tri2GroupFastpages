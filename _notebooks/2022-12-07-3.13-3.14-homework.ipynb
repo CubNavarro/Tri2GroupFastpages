{
 "cells": [
  {
   "cell_type": "markdown",
   "metadata": {},
   "source": [
    "# 3.12-3.13 Homework/Hacks\n",
    "\n",
    "- toc: true \n",
    "- badges: true\n",
    "- comments: true\n",
    "- categories: [markdown]"
   ]
  },
  {
   "attachments": {},
   "cell_type": "markdown",
   "metadata": {},
   "source": [
    "# 3.12 Homework/Hacks part 2\n",
    "#### Part 2 1 is on the lesson of 3.1.2 part 1 "
   ]
  },
  {
   "attachments": {},
   "cell_type": "markdown",
   "metadata": {},
   "source": [
    "PROCEDURE find a ()\n",
    "\n",
    "{\n",
    "    c -- 9  \n",
    "\n",
    "    b <-- 9 * 9    \n",
    "\n",
    "    a <-- b * c     \n",
    "\n",
    " Print (a)\n",
    "\n",
    "} \n",
    "\n",
    "What is a?    \n",
    "\n",
    "cost ⟵ 173 tax - 10% \n",
    "\n",
    "PROCEDURE applytax (cost, cpercentDiscounted)\n",
    "{\n",
    "    temp <-- 100 + percentTaxed   \n",
    "\n",
    "    temp <-- temp / 100\n",
    "\n",
    "    cost <-- cost x temp       \n",
    "    \n",
    "    Print(cost)} \n",
    "\n",
    "What is the cost? \n",
    "\n",
    "Tempature - 103 Degrees\n",
    "\n",
    "PROCEDURE convet Fahrenheit (tempature)\n",
    "\n",
    "{\n",
    "    \n",
    "    Celsius <-- tempature - 32  \n",
    "\n",
    "    Celsius <-- Celsius x 5/9      \n",
    "    \n",
    " Print (Celsius)} "
   ]
  },
  {
   "attachments": {},
   "cell_type": "markdown",
   "metadata": {},
   "source": [
    "# 3.13 Homework/Hacks for Part 1 and Part 2 of the lesson\n",
    "\n",
    "### #1. Create a procedure that is meant to replace the top running backs yards per game in one season if the current running back has more yards per game\n",
    "\n",
    "- Necessary Parameters: toprbyardspg(100), currentrbyards(1260), totalGames(12)   \n",
    "\n",
    "\n",
    "<details closed>\n",
    "    <summary>Click for hint</summary>\n",
    "        Refer back to 3.13 Developing Procedures Part 1\n",
    "    </details>\n",
    "\n",
    "### #2. Write a procedure that will allow the A+ to get to the 1, while avoiding the black boxes.\n",
    "Use what you learned about moving robots\n",
    "\n",
    "![](homework2.png)\n",
    "\n",
    "<details closed>\n",
    "    <summary>Click for hint</summary>\n",
    "        Refer back to 3.13 Developing Procedures Part 1\n",
    "    </details>"
   ]
  },
  {
   "attachments": {},
   "cell_type": "markdown",
   "metadata": {},
   "source": [
    "**Which Is the Correct Way to define the Name of a Procedure?**\n",
    "- A. PROCEDURE MYLIST\n",
    "- B. PROCEDURE MyList\n",
    "- C. procedure mylist\n",
    "<details closed>\n",
    "<summary> Click For Hint</summary>\n",
    "Remember the word procedure should be in all capitals and a part of the declared procedure should be in caps\n",
    "   </details>\n",
    "\n",
    "**Write A Procedure That gets the BeachBall To the Green Square**\n",
    "\n",
    "![](beach.png)"
   ]
  },
  {
   "attachments": {},
   "cell_type": "markdown",
   "metadata": {},
   "source": []
  },
  {
   "cell_type": "markdown",
   "metadata": {},
   "source": [
    "<script src=\"https://utteranc.es/client.js\"\n",
    "        repo=\"[Tri2GroupFastpages]\"\n",
    "        issue-term=\"pathname\"\n",
    "        theme=\"github-light\"\n",
    "        crossorigin=\"anonymous\"\n",
    "        async>\n",
    "</script>"
   ]
  },
  {
   "attachments": {},
   "cell_type": "markdown",
   "metadata": {},
   "source": [
    "# You Have Finished All the hacks Just Add a submisson to the comment in our fastpages under homework!\n",
    "\n",
    "### CHECKLIST!\n",
    "- 3.12 Hacks part 1 (on the lesson of 13.2 Part 1 )\n",
    "- 3.12 Hacks part 2 \n",
    "- 3.1.3 Hacks Part 1 \n",
    "- 3.13 Hacks part 2 "
   ]
  }
 ],
 "metadata": {
  "kernelspec": {
   "display_name": "Python 3",
   "language": "python",
   "name": "python3"
  },
  "language_info": {
   "name": "python",
   "version": "3.10.6 (tags/v3.10.6:9c7b4bd, Aug  1 2022, 21:53:49) [MSC v.1932 64 bit (AMD64)]"
  },
  "orig_nbformat": 4,
  "vscode": {
   "interpreter": {
    "hash": "dcd4837add793386cd67e25a441830de5b4a5ceabdd5dcba5a317ceae751db5e"
   }
  }
 },
 "nbformat": 4,
 "nbformat_minor": 2
}
