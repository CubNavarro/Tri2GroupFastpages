{
 "cells": [
  {
   "cell_type": "markdown",
   "metadata": {},
   "source": [
    "# 3.12 Calling Procedures Assignment\n",
    "\n",
    "- toc: true \n",
    "- badges: true\n",
    "- comments: true\n",
    "- categories: [markdown]"
   ]
  },
  {
   "cell_type": "markdown",
   "metadata": {},
   "source": [
    "## Assignment 1\n",
    "\n",
    "# What is a procedure and a parameter?\n",
    "\n",
    "- A procedure is a named group of programming instructions that may have parameters and return values\n",
    "- Procedures can be reffered to as method or function\n",
    "- Parameters are input values of a procedure and argurmanet specifcy the valeus of the parameters when a procedure is called\n",
    "- A procedrure call interrupts an execution of statements and makes the program execute the statements in the procedure. If you have a set of statements and inside there is a procedure then when it reaches that procedure it will excute that procedure and then go back to the rest of the statments.\n",
    "- If you see a return statement you automatically end the procedure even if there is more statements\n",
    "\n",
    "# Examples of procedures\n",
    "![](https://lh3.googleusercontent.com/pw/AL9nZEX9BA3C2hGXGeI48fNvt2tdnoRDqKndnSXqpnWiXOQTO4lxPlH3qCafmhNbGcqwgWd-kXAfTrNlbZL5tziVjlu7eGukq7GX8p-yqySt3T-uJw15tCH9ITJGygfroNGMD7GtcVUoCc-RfpqpyrE_hthcJSa2TiD7aVR-6k5XzByu30HtBv8aAx8K0r1UspWlKPiT4s2WZqKRNYiwiIEVCX9kDugzGBhkMzBvWKV0xloE0tMPAM3MyO7L-OI3b2XJm7hTaA3KgR2CF6ZCx6n3jp0QiAJa-EB5piLRWmTXUSw_GumC7QOcvj0JgiZpMRTuUOeGdWasNSoyz1RRLWZjz9CuHMM4pVtJEU-yqYaj1H11tLO6C7j4hRgoax3v9g2JumidcX2jynuHT51YBGSadL7g207-xJFBaccff3ylvlu2-Xvj8uavA4Ir_1z-o2V482BHbmOj9x0nyzgrDwd-r5GFG11T86xtDCWHRtxg5nYoPPSrKJECG8AtE0WzzxRQtSDsMp0erYI4tkzgXXO3TF5-LpXf3rlCISrr1bPCRU4vht5cH9Wq0TsewJCqDbgxMmH38577U6NHxG9AjayhhwADwB0w-hCBtS2P4Vi4kacC0PaxgJ4NMj3o6s94LV_fFEY4sWCypcq5YUMlb_XRqcP5_6uQ-S35DoH6MLZ6Nq1jtHnICLGnfZFtylNk9RxLx-CI55XbWLTVH1jZzvvP9415Bc-DyRjtXQLDV9fOehdyqPucf9JOEJ-470IjBZYYq5SDDQw2g8rnxWnK4KkB3fyNlgmrFfoPhheSv1h62Mvj8jQdRc2-y7LI7yGg5qNqsuirQMXIkqq1qhiZNg0vL7XigYYC7pbIS0rybxeyXudKIpI1KTFCoSB0c5xQLjXh1LhRBpVsVPhsKbbK2izRGw=w2248-h580-no?authuser=0)\n"
   ]
  },
  {
   "cell_type": "markdown",
   "metadata": {},
   "source": [
    "## Assignment 2\n",
    "\n",
    "- If the procedure that you are calling returns some kind of data like a number or a Boolean, then you will assign that value to a variable\n",
    "- You want your procedure to be well named, so it describes the purpose of what it does\n",
    "- Before you call a procedure ask the questions: Does the procedure call require arguments? What type of data does the procedure return?\n",
    "\n",
    "![](https://lh3.googleusercontent.com/pw/AL9nZEXF-7WslwH0ZqAOh0c4lnGzuRET_6ys4xoiBrrH-tbsuL01TfEMLHpWbVN2q_cxhlW1vL24NTic00P1B0YaeZ3W8aVckMOAb9H_3BqJvn5ozAEfPvraR6uHI5ikt80n0uTe61TiQEckOa39NVEq5VtPp7VnbFW8XaiWcVCwRJMWytFZmr7kGdlefBSX9nt4U7lhI1f18mY83kfO5CMWAaSwSyEc2pL1LPaou_n8mjAWN_bXwiftBMi6qh4Fi3rvti1bH5Uevw46vXd84ovk_07jn7RrHhis4cppdCnzZTd3MRljb5TK68VeJFsgOjXcdoYl_shJYjSSjKTnhXc3msiLWGhaNbiMb3nC2eIPRDOxk3UUWkJynAT9Ys9_gc6A2pY9gD_I-JKXpsXPSc60ByvOE63ke0JeuCxA9OReBdc4PfT9ynXnDGRuYe3mTvFxF0KzauX6pZNVs2kLTvFmmxrk_R0_6lKp_pKnn8NACaOjPwZXelU9WeDi0tKuDyqXRsM2-WGgAkL-8gZK3OhZUVJhIO9brqyWuaRgVffeLChkFvj0xecTqWBgO0YJVsbM4dRwpBxza3RbWiSRgFEajdUuPYHPgITQj0qnpEjfQAXq1svOvrGYBUrzIiRIQyzuPQKkwDf8mTH0q1LUSOyrzyPWpVe9RIq8caO8UppV4opP4mdMKdL-SwgpGUgWC9w_3LoGp_uVa439CnTtp9x9NYFx23MH3WxQ0bwcP2jaI6FrPIklR2QqBLBhkWeRx10WVrNbJUO7bglGzt79US_cKkVdy6D-qd5mtvPXxfWYYf_1Yeb65SyM4IcKAljg-05SkXz3dzChuGsT7Yk-oBj1WshrLo7vCcptI3kDUO_b1QG8f-8Y7s61oKrjeovQM1_dzrcgsMiq6Oc0TCU-TLyfLA=w1514-h252-no?authuser=0)\n",
    "![](https://lh3.googleusercontent.com/pw/AL9nZEXh-0joUPK0_ng3pk5sCT9q1TFPETGvvpMNYsvyujSGElrAVVpDldYdRaMi7hMd_FMuYzoWzJ2y0yicQgwy-KCQ0VKeL54IdxL7SvtbQP_YJ8k0ED1wxmFLLl1P7zYDBRnQVEwXwpCASlIw-zTkGcoFL-W_GAZUDpOPw988SPvBEeNepL4dqST2PN09AqTm0ilnM_6tYZP9tHL0uMaaReNIW4J4bCP4TXh_O6s23w_qWtUIDgMx9JH4uqg50vlzLSOdh7Rry8QfwD_hb75shpBZh79RNuA0z4tSFpcjXH4e7ifMpwt_LFpTo74bxour9i3tMvN7j7P5Se_ZQG6iNiSLaA9wkHaX7dzaezom2U-EYjW1UDzF5FRmAky8sIcK6wDxTDajzpAQannoT079zHq9VlYUKBx-YNkTJmsJzMN6PEOuynpTy10wZ2vumdc0JzCOxslxU1wEmYv1lUW6psatU17y6ETpe0tIRaePlWjiugiw4cTguB_AzX27pndxoSLS04480wscKM5_AmViQlsBms602YBF6vn9G1oC-t4s3HH34UR_UtXMcDpJ04NSH9FQziBF0xX9WdLfxzrC3tQzKVuqdjPFLoP0j4IW1aEynO8OGDItFaN5fe_fUeHmt37sRAZLnnKutaW6I7pvmyEPCkeFLMnTQvtxhs9Om-k5ag4uc4WLItHaMXNjmwiA_7_dTfaz19ZdOxzpHD1g8xlMw4yTxl5R9Cat-fDIZeNIIUoKrzcajeSeqHmcIXFN9dsaNiiZelZmDy83bO3YiqVtN0xAVNt4mIPeRGqRGc_czXMMn68Kfg5m6cX41L82XG9tNyIBB4wRGOA_v1Rz97kjBRwYjzESgT8L54VlNAg-2hFGhqGXsG35lHQkkVN0c4Jwxyoe76KTdpR4TzFHmw=w2286-h778-no?authuser=0)"
   ]
  }
 ],
 "metadata": {
  "kernelspec": {
   "display_name": "Python 3.9.12 ('base')",
   "language": "python",
   "name": "python3"
  },
  "language_info": {
   "file_extension": ".js",
   "mimetype": "application/javascript",
   "name": "python",
   "version": "3.9.12"
  },
  "orig_nbformat": 4,
  "vscode": {
   "interpreter": {
    "hash": "40d3a090f54c6569ab1632332b64b2c03c39dcf918b08424e98f38b5ae0af88f"
   }
  }
 },
 "nbformat": 4,
 "nbformat_minor": 2
}
